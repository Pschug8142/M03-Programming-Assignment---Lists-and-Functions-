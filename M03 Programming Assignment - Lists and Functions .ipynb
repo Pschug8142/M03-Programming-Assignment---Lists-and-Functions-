{
 "cells": [
  {
   "cell_type": "code",
   "execution_count": 21,
   "id": "4d88d00c",
   "metadata": {},
   "outputs": [
    {
     "name": "stdout",
     "output_type": "stream",
     "text": [
      "['mozzarella', 'CINDERELLA', 'salmonella']\n",
      "['MOZZARELLA', 'CINDERELLA', 'salmonella']\n",
      "['MOZZARELLA', 'CINDERELLA']\n"
     ]
    }
   ],
   "source": [
    "#7.4\n",
    "things = [\"mozzarella\", \"cinderella\", \"salmonella\"]\n",
    "#7.5 Replacing 'cinderella' with 'CINDERELLA'\n",
    "things[1] = things[1].upper()\n",
    "print(things)\n",
    "# The element was changed using .upper().\n",
    "#7.6\n",
    "things[0] = things[0].upper()\n",
    "print(things)\n",
    "# The element was changed using .upper().\n",
    "#7.7\n",
    "things.remove('salmonella')\n",
    "print(things)\n",
    "# Element has been removed from the list using .remove()."
   ]
  },
  {
   "cell_type": "code",
   "execution_count": 38,
   "id": "5b30dfb5",
   "metadata": {},
   "outputs": [
    {
     "name": "stdout",
     "output_type": "stream",
     "text": [
      "5\n"
     ]
    }
   ],
   "source": [
    "#9.1\n",
    "def good():\n",
    "    hogwarts_survivors = ['Harry','Ron',\"Hermione\"] #assigning list to variable hogwarts_survivors\n",
    "    return hogwarts_survivors #returning list\n",
    "#9.2\n",
    "def get_odds(): # function that determines all odd numbers between 0 and 9\n",
    "    odd_numbers = [] #creating empty list\n",
    "    i = 0\n",
    "    for i in range(10):\n",
    "        i += 1\n",
    "        if (i % 2) > 0: #checking if given number is odd or even\n",
    "            odd_numbers.append(i) #if odd append to odd_numbers list\n",
    "    print(odd_numbers[2]) #print the third odd number in the list, in this case '5'\n",
    "get_odds() #running function."
   ]
  },
  {
   "cell_type": "code",
   "execution_count": null,
   "id": "6f2fa3fa",
   "metadata": {},
   "outputs": [],
   "source": []
  }
 ],
 "metadata": {
  "kernelspec": {
   "display_name": "Python 3 (ipykernel)",
   "language": "python",
   "name": "python3"
  },
  "language_info": {
   "codemirror_mode": {
    "name": "ipython",
    "version": 3
   },
   "file_extension": ".py",
   "mimetype": "text/x-python",
   "name": "python",
   "nbconvert_exporter": "python",
   "pygments_lexer": "ipython3",
   "version": "3.11.5"
  }
 },
 "nbformat": 4,
 "nbformat_minor": 5
}
